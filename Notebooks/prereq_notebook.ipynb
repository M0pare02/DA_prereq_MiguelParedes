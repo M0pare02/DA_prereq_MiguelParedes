{
 "cells": [
  {
   "cell_type": "markdown",
   "id": "b7bb9258",
   "metadata": {},
   "source": [
    "Hello, my name is Miguel Paredes and I am excited to learn\n",
    "what data analisis is all about. "
   ]
  },
  {
   "cell_type": "code",
   "execution_count": 1,
   "id": "1db9d270",
   "metadata": {},
   "outputs": [
    {
     "name": "stdout",
     "output_type": "stream",
     "text": [
      "Hello world! lol\n"
     ]
    }
   ],
   "source": [
    "print(\"Hello world! lol\")"
   ]
  }
 ],
 "metadata": {
  "kernelspec": {
   "display_name": "Python 3",
   "language": "python",
   "name": "python3"
  },
  "language_info": {
   "codemirror_mode": {
    "name": "ipython",
    "version": 3
   },
   "file_extension": ".py",
   "mimetype": "text/x-python",
   "name": "python",
   "nbconvert_exporter": "python",
   "pygments_lexer": "ipython3",
   "version": "3.11.9"
  }
 },
 "nbformat": 4,
 "nbformat_minor": 5
}
